{
  "nbformat": 4,
  "nbformat_minor": 0,
  "metadata": {
    "colab": {
      "name": "Heart disease detection.ipynb",
      "provenance": [],
      "collapsed_sections": [],
      "mount_file_id": "1cFZkiJUL9z7HhEd1tNvm3eI4X9fPagg3",
      "authorship_tag": "ABX9TyNavlgLNbUxZja9nI2XJFTy",
      "include_colab_link": true
    },
    "kernelspec": {
      "name": "python3",
      "display_name": "Python 3"
    },
    "language_info": {
      "name": "python"
    }
  },
  "cells": [
    {
      "cell_type": "markdown",
      "metadata": {
        "id": "view-in-github",
        "colab_type": "text"
      },
      "source": [
        "<a href=\"https://colab.research.google.com/github/prabhkaur301/Heart-Disease-prediction/blob/main/Heart_disease_detection.ipynb\" target=\"_parent\"><img src=\"https://colab.research.google.com/assets/colab-badge.svg\" alt=\"Open In Colab\"/></a>"
      ]
    },
    {
      "cell_type": "code",
      "metadata": {
        "id": "JoRq_X1y825u"
      },
      "source": [
        ""
      ],
      "execution_count": null,
      "outputs": []
    },
    {
      "cell_type": "code",
      "metadata": {
        "colab": {
          "base_uri": "https://localhost:8080/"
        },
        "id": "iAanAYjVTRU9",
        "outputId": "3ab1cf1a-2cbf-4313-a9d8-59680724c1e0"
      },
      "source": [
        "from google.colab import drive\n",
        "drive.mount('/content/drive')"
      ],
      "execution_count": null,
      "outputs": [
        {
          "output_type": "stream",
          "name": "stdout",
          "text": [
            "Mounted at /content/drive\n"
          ]
        }
      ]
    },
    {
      "cell_type": "markdown",
      "metadata": {
        "id": "3VDNCkV8Xops"
      },
      "source": [
        "Important Reference Links:-\n",
        "\n",
        "\n",
        "* [Guide to statistical description (data.decsribe() method)](https://towardsdatascience.com/how-do-we-describe-data-9ce688943c8e)\n",
        "*  [Linear Regression](https://machinelearningmastery.com/linear-regression-for-machine-learning/)"
      ]
    },
    {
      "cell_type": "markdown",
      "metadata": {
        "id": "cUGKUkZz_NwF"
      },
      "source": [
        "Importing the dependencies \n",
        "\n",
        "\n",
        "*   numpy is used to handle the multidimensional arrays\n",
        "*   pandas is used to handle the data in the form of dataframes(structured data)\n",
        "*   train_test.split is used to split the data in two different datasets , one is for training the model and other for testing .\n",
        "*   Logistic Regression is the model in which we fetch the data for training. We used this model because it is apt for binary classification . In this case, We have two option either heart diseased or not.\n",
        "*   accuracy_score is used to test how well our model is working.\n",
        "\n",
        "\n",
        "\n",
        "\n",
        "\n"
      ]
    },
    {
      "cell_type": "code",
      "metadata": {
        "id": "OT2Wnnmi_Si0"
      },
      "source": [
        "import numpy as np\n",
        "import pandas as pd\n",
        "from sklearn.model_selection import train_test_split\n",
        "from sklearn.linear_model import LogisticRegression\n",
        "from sklearn.metrics import accuracy_score"
      ],
      "execution_count": null,
      "outputs": []
    },
    {
      "cell_type": "markdown",
      "metadata": {
        "id": "LhjI-T33RV8I"
      },
      "source": [
        "Data collection & Data Pre-processing"
      ]
    },
    {
      "cell_type": "code",
      "metadata": {
        "id": "4E6GkrDTRT4N"
      },
      "source": [
        "## loading csv data into pandas dataframe\n",
        "raw_data=pd.read_csv('/content/drive/MyDrive/Colab Notebooks/Heart disease prediction/heart.csv')\n"
      ],
      "execution_count": null,
      "outputs": []
    },
    {
      "cell_type": "code",
      "metadata": {
        "id": "-RlLF62JSHz1"
      },
      "source": [
        "## printing the data\n",
        "raw_data.head()"
      ],
      "execution_count": null,
      "outputs": []
    },
    {
      "cell_type": "code",
      "metadata": {
        "id": "vhx4qVwCUi07"
      },
      "source": [
        "## getting the number of rows and columns\n",
        "raw_data.shape"
      ],
      "execution_count": null,
      "outputs": []
    },
    {
      "cell_type": "code",
      "metadata": {
        "id": "4PrRaDfTU5CJ"
      },
      "source": [
        "## getting the detailed information about dataset\n",
        "raw_data.info()"
      ],
      "execution_count": null,
      "outputs": []
    },
    {
      "cell_type": "code",
      "metadata": {
        "id": "exWXaS8nVb63"
      },
      "source": [
        "## checking for null values\n",
        "raw_data.isnull().sum()"
      ],
      "execution_count": null,
      "outputs": []
    },
    {
      "cell_type": "code",
      "metadata": {
        "colab": {
          "base_uri": "https://localhost:8080/",
          "height": 320
        },
        "id": "jt28IlvJWYcr",
        "outputId": "3d4359df-ef39-4690-c819-931cfaae8b5f"
      },
      "source": [
        "## getting detailed statistical information about the dataset\n",
        "raw_data.describe()"
      ],
      "execution_count": null,
      "outputs": [
        {
          "output_type": "execute_result",
          "data": {
            "text/html": [
              "<div>\n",
              "<style scoped>\n",
              "    .dataframe tbody tr th:only-of-type {\n",
              "        vertical-align: middle;\n",
              "    }\n",
              "\n",
              "    .dataframe tbody tr th {\n",
              "        vertical-align: top;\n",
              "    }\n",
              "\n",
              "    .dataframe thead th {\n",
              "        text-align: right;\n",
              "    }\n",
              "</style>\n",
              "<table border=\"1\" class=\"dataframe\">\n",
              "  <thead>\n",
              "    <tr style=\"text-align: right;\">\n",
              "      <th></th>\n",
              "      <th>age</th>\n",
              "      <th>sex</th>\n",
              "      <th>cp</th>\n",
              "      <th>trestbps</th>\n",
              "      <th>chol</th>\n",
              "      <th>fbs</th>\n",
              "      <th>restecg</th>\n",
              "      <th>thalach</th>\n",
              "      <th>exang</th>\n",
              "      <th>oldpeak</th>\n",
              "      <th>slope</th>\n",
              "      <th>ca</th>\n",
              "      <th>thal</th>\n",
              "      <th>target</th>\n",
              "    </tr>\n",
              "  </thead>\n",
              "  <tbody>\n",
              "    <tr>\n",
              "      <th>count</th>\n",
              "      <td>303.000000</td>\n",
              "      <td>303.000000</td>\n",
              "      <td>303.000000</td>\n",
              "      <td>303.000000</td>\n",
              "      <td>303.000000</td>\n",
              "      <td>303.000000</td>\n",
              "      <td>303.000000</td>\n",
              "      <td>303.000000</td>\n",
              "      <td>303.000000</td>\n",
              "      <td>303.000000</td>\n",
              "      <td>303.000000</td>\n",
              "      <td>303.000000</td>\n",
              "      <td>303.000000</td>\n",
              "      <td>303.000000</td>\n",
              "    </tr>\n",
              "    <tr>\n",
              "      <th>mean</th>\n",
              "      <td>54.366337</td>\n",
              "      <td>0.683168</td>\n",
              "      <td>0.966997</td>\n",
              "      <td>131.623762</td>\n",
              "      <td>246.264026</td>\n",
              "      <td>0.148515</td>\n",
              "      <td>0.528053</td>\n",
              "      <td>149.646865</td>\n",
              "      <td>0.326733</td>\n",
              "      <td>1.039604</td>\n",
              "      <td>1.399340</td>\n",
              "      <td>0.729373</td>\n",
              "      <td>2.313531</td>\n",
              "      <td>0.544554</td>\n",
              "    </tr>\n",
              "    <tr>\n",
              "      <th>std</th>\n",
              "      <td>9.082101</td>\n",
              "      <td>0.466011</td>\n",
              "      <td>1.032052</td>\n",
              "      <td>17.538143</td>\n",
              "      <td>51.830751</td>\n",
              "      <td>0.356198</td>\n",
              "      <td>0.525860</td>\n",
              "      <td>22.905161</td>\n",
              "      <td>0.469794</td>\n",
              "      <td>1.161075</td>\n",
              "      <td>0.616226</td>\n",
              "      <td>1.022606</td>\n",
              "      <td>0.612277</td>\n",
              "      <td>0.498835</td>\n",
              "    </tr>\n",
              "    <tr>\n",
              "      <th>min</th>\n",
              "      <td>29.000000</td>\n",
              "      <td>0.000000</td>\n",
              "      <td>0.000000</td>\n",
              "      <td>94.000000</td>\n",
              "      <td>126.000000</td>\n",
              "      <td>0.000000</td>\n",
              "      <td>0.000000</td>\n",
              "      <td>71.000000</td>\n",
              "      <td>0.000000</td>\n",
              "      <td>0.000000</td>\n",
              "      <td>0.000000</td>\n",
              "      <td>0.000000</td>\n",
              "      <td>0.000000</td>\n",
              "      <td>0.000000</td>\n",
              "    </tr>\n",
              "    <tr>\n",
              "      <th>25%</th>\n",
              "      <td>47.500000</td>\n",
              "      <td>0.000000</td>\n",
              "      <td>0.000000</td>\n",
              "      <td>120.000000</td>\n",
              "      <td>211.000000</td>\n",
              "      <td>0.000000</td>\n",
              "      <td>0.000000</td>\n",
              "      <td>133.500000</td>\n",
              "      <td>0.000000</td>\n",
              "      <td>0.000000</td>\n",
              "      <td>1.000000</td>\n",
              "      <td>0.000000</td>\n",
              "      <td>2.000000</td>\n",
              "      <td>0.000000</td>\n",
              "    </tr>\n",
              "    <tr>\n",
              "      <th>50%</th>\n",
              "      <td>55.000000</td>\n",
              "      <td>1.000000</td>\n",
              "      <td>1.000000</td>\n",
              "      <td>130.000000</td>\n",
              "      <td>240.000000</td>\n",
              "      <td>0.000000</td>\n",
              "      <td>1.000000</td>\n",
              "      <td>153.000000</td>\n",
              "      <td>0.000000</td>\n",
              "      <td>0.800000</td>\n",
              "      <td>1.000000</td>\n",
              "      <td>0.000000</td>\n",
              "      <td>2.000000</td>\n",
              "      <td>1.000000</td>\n",
              "    </tr>\n",
              "    <tr>\n",
              "      <th>75%</th>\n",
              "      <td>61.000000</td>\n",
              "      <td>1.000000</td>\n",
              "      <td>2.000000</td>\n",
              "      <td>140.000000</td>\n",
              "      <td>274.500000</td>\n",
              "      <td>0.000000</td>\n",
              "      <td>1.000000</td>\n",
              "      <td>166.000000</td>\n",
              "      <td>1.000000</td>\n",
              "      <td>1.600000</td>\n",
              "      <td>2.000000</td>\n",
              "      <td>1.000000</td>\n",
              "      <td>3.000000</td>\n",
              "      <td>1.000000</td>\n",
              "    </tr>\n",
              "    <tr>\n",
              "      <th>max</th>\n",
              "      <td>77.000000</td>\n",
              "      <td>1.000000</td>\n",
              "      <td>3.000000</td>\n",
              "      <td>200.000000</td>\n",
              "      <td>564.000000</td>\n",
              "      <td>1.000000</td>\n",
              "      <td>2.000000</td>\n",
              "      <td>202.000000</td>\n",
              "      <td>1.000000</td>\n",
              "      <td>6.200000</td>\n",
              "      <td>2.000000</td>\n",
              "      <td>4.000000</td>\n",
              "      <td>3.000000</td>\n",
              "      <td>1.000000</td>\n",
              "    </tr>\n",
              "  </tbody>\n",
              "</table>\n",
              "</div>"
            ],
            "text/plain": [
              "              age         sex          cp  ...          ca        thal      target\n",
              "count  303.000000  303.000000  303.000000  ...  303.000000  303.000000  303.000000\n",
              "mean    54.366337    0.683168    0.966997  ...    0.729373    2.313531    0.544554\n",
              "std      9.082101    0.466011    1.032052  ...    1.022606    0.612277    0.498835\n",
              "min     29.000000    0.000000    0.000000  ...    0.000000    0.000000    0.000000\n",
              "25%     47.500000    0.000000    0.000000  ...    0.000000    2.000000    0.000000\n",
              "50%     55.000000    1.000000    1.000000  ...    0.000000    2.000000    1.000000\n",
              "75%     61.000000    1.000000    2.000000  ...    1.000000    3.000000    1.000000\n",
              "max     77.000000    1.000000    3.000000  ...    4.000000    3.000000    1.000000\n",
              "\n",
              "[8 rows x 14 columns]"
            ]
          },
          "metadata": {},
          "execution_count": 10
        }
      ]
    },
    {
      "cell_type": "code",
      "metadata": {
        "id": "OLJuetYmbD2B"
      },
      "source": [
        "## checking the distribution of target column ( How many are suffereing from heart disease and how many are not)\n",
        "raw_data['target'].value_counts()"
      ],
      "execution_count": null,
      "outputs": []
    },
    {
      "cell_type": "markdown",
      "metadata": {
        "id": "bkbBRGzc_L_R"
      },
      "source": [
        "0 --> Represents non defective heart \n",
        "\n",
        "---\n",
        "1 --> Represents defective heart"
      ]
    },
    {
      "cell_type": "markdown",
      "metadata": {
        "id": "yMLcBesufp_f"
      },
      "source": [
        "Checking how many values in Target column are of the type Int"
      ]
    },
    {
      "cell_type": "code",
      "metadata": {
        "id": "qkuz--JzeOkD"
      },
      "source": [
        "raw_data['target'].map(type) == int"
      ],
      "execution_count": null,
      "outputs": []
    },
    {
      "cell_type": "markdown",
      "metadata": {
        "id": "iR2rL-viiW2r"
      },
      "source": [
        "Splitting the Target & Features as two seperate variables X and Y"
      ]
    },
    {
      "cell_type": "code",
      "metadata": {
        "id": "qVRqp0ZQhaLE"
      },
      "source": [
        "## splitting the columns in two diffrent variables\n",
        "X=raw_data.drop(columns='target', axis=1)\n",
        "Y=raw_data['target']"
      ],
      "execution_count": null,
      "outputs": []
    },
    {
      "cell_type": "code",
      "metadata": {
        "id": "E_C9C2LGizjM"
      },
      "source": [
        "print(X)\n",
        "print(Y)\n"
      ],
      "execution_count": null,
      "outputs": []
    },
    {
      "cell_type": "markdown",
      "metadata": {
        "id": "N2ZSPqEZkpuo"
      },
      "source": [
        "Splitting the dataframe into two groups ( Training & Testing)\n"
      ]
    },
    {
      "cell_type": "code",
      "metadata": {
        "id": "LS2aptNGk5Iv"
      },
      "source": [
        "X_train,X_test,Y_train,Y_test=train_test_split(X,Y,test_size=0.2,stratify=Y,random_state=2)"
      ],
      "execution_count": null,
      "outputs": []
    },
    {
      "cell_type": "code",
      "metadata": {
        "id": "W3Z5T86YlciC",
        "colab": {
          "base_uri": "https://localhost:8080/"
        },
        "outputId": "1b9a22af-8c3d-43d2-aa68-1548ef5e8570"
      },
      "source": [
        "print(X.shape,X_train.shape,X_test.shape)"
      ],
      "execution_count": null,
      "outputs": [
        {
          "output_type": "stream",
          "name": "stdout",
          "text": [
            "(303, 13) (242, 13) (61, 13)\n"
          ]
        }
      ]
    },
    {
      "cell_type": "code",
      "metadata": {
        "id": "8dfYVLvUss1U",
        "colab": {
          "base_uri": "https://localhost:8080/"
        },
        "outputId": "279a76f2-aff9-4f7c-f4f5-c722cdf3836a"
      },
      "source": [
        "print(Y.shape,Y_train.shape,Y_test.shape)"
      ],
      "execution_count": null,
      "outputs": [
        {
          "output_type": "stream",
          "name": "stdout",
          "text": [
            "(303,) (242,) (61,)\n"
          ]
        }
      ]
    },
    {
      "cell_type": "markdown",
      "metadata": {
        "id": "e-klcQeDx8cz"
      },
      "source": [
        "Training the Model \n",
        "We are choosing Logistic Regression model for training the dataset as it is good for binary classification.\n",
        "\n",
        "[Detailed Explanation](https://towardsdatascience.com/logistic-regression-detailed-overview-46c4da4303bc)"
      ]
    },
    {
      "cell_type": "code",
      "metadata": {
        "id": "wLj9YkuNz0Uo"
      },
      "source": [
        "model=LogisticRegression()\n"
      ],
      "execution_count": null,
      "outputs": []
    },
    {
      "cell_type": "code",
      "metadata": {
        "id": "upnCadL_0Dw5"
      },
      "source": [
        "model.fit(X_train,Y_train)"
      ],
      "execution_count": null,
      "outputs": []
    },
    {
      "cell_type": "markdown",
      "metadata": {
        "id": "fHpwFKAg17Hb"
      },
      "source": [
        "Evaluation of Model"
      ]
    },
    {
      "cell_type": "code",
      "metadata": {
        "id": "DgH5q-9d1_h-"
      },
      "source": [
        "# Evaluation of Model using accuracy_score function from sklearn library\n",
        "\n",
        "## accuracy score on training data\n",
        "training_prediction=model.predict(X_train)\n",
        "training_accuracy_score=accuracy_score(training_prediction,Y_train)\n"
      ],
      "execution_count": null,
      "outputs": []
    },
    {
      "cell_type": "code",
      "metadata": {
        "colab": {
          "base_uri": "https://localhost:8080/"
        },
        "id": "YWy4AZdn2zuN",
        "outputId": "22cec96b-d6e4-4c9d-abac-163a23385e41"
      },
      "source": [
        "print(training_accuracy_score)"
      ],
      "execution_count": null,
      "outputs": [
        {
          "output_type": "stream",
          "name": "stdout",
          "text": [
            "0.8512396694214877\n"
          ]
        }
      ]
    },
    {
      "cell_type": "code",
      "metadata": {
        "id": "V0JhWI9923WI"
      },
      "source": [
        "## accuracy score on testing data\n",
        "testing_prediction=model.predict(X_test)\n",
        "testing_accuracy_score=accuracy_score(testing_prediction,Y_test)"
      ],
      "execution_count": null,
      "outputs": []
    },
    {
      "cell_type": "code",
      "metadata": {
        "colab": {
          "base_uri": "https://localhost:8080/"
        },
        "id": "L8jVvdWr3Iux",
        "outputId": "69dbbb23-29c7-46d1-cafd-886630849302"
      },
      "source": [
        "print(testing_accuracy_score)"
      ],
      "execution_count": null,
      "outputs": [
        {
          "output_type": "stream",
          "name": "stdout",
          "text": [
            "0.819672131147541\n"
          ]
        }
      ]
    },
    {
      "cell_type": "markdown",
      "metadata": {
        "id": "SyLDqg8o3OXV"
      },
      "source": [
        "Here we have little difference in the accuracy score of training and testing data . So we can say that model is trained well . It is not over-fitted"
      ]
    },
    {
      "cell_type": "markdown",
      "metadata": {
        "id": "8Wpo3iLa3gZu"
      },
      "source": [
        "### Predictive System\n",
        "\n",
        "\n"
      ]
    },
    {
      "cell_type": "code",
      "metadata": {
        "id": "YhQOFqVf5fyK"
      },
      "source": [
        "# Taking the input from user 64,1,3,110,211,0,0,144,1,1.8,1,0,2,1\n",
        "print(\"Please enter the following detail\")\n",
        "input_data=(int(input(\"Age:-\\n\")),\n",
        "            int(input(\"Gender:-\\n0 for Female \\n1 for male\")),\n",
        "            int(input(\"Chest Pain measurefrom 0-4\\n0-->No Pain 4--> Severe pain:-\\n\")),\n",
        "            int(input(\"Resting Blood Pressure value:-\\n\")),\n",
        "            int(input(\"Cholestrol Value:-\\n\")),\n",
        "            int(input(\"Fasting Blood Sugar:-\\n\")),\n",
        "            int(input(\"Rest ECG:-\\n\")),\n",
        "            int(input(\"Max Heart Rate:-\\n\")),\n",
        "            int(input(\"Exercised induced Agina:-\\n\")),\n",
        "            float(input(\"ST Depression:-\\n\")),\n",
        "            int(input(\"The slope of the peak exercise ST segment:-\\n\")),\n",
        "            int(input(\"Number of major vessels (0-3) colored by flourosopy:-\\n\")),\n",
        "            int(input(\"Thalessemia Value:- \\n thal: 3 = normal; 6 = fixed defect; 7 = reversable defect\\n\"))\n",
        "            )"
      ],
      "execution_count": null,
      "outputs": []
    },
    {
      "cell_type": "code",
      "metadata": {
        "id": "XQxWqgXGXcEn"
      },
      "source": [
        "print(input_data)"
      ],
      "execution_count": null,
      "outputs": []
    },
    {
      "cell_type": "code",
      "metadata": {
        "id": "4bJXJ1tuKYAg"
      },
      "source": [
        " input_data_as_numpy= np.asarray(input_data)"
      ],
      "execution_count": null,
      "outputs": []
    },
    {
      "cell_type": "code",
      "metadata": {
        "id": "JfcP3uU7LI7U"
      },
      "source": [
        "input_data_reshaped=input_data_as_numpy.reshape(1,-1)\n",
        "prediction=model.predict(input_data_reshaped)\n",
        "print(prediction)\n",
        "if(prediction[0]==0):\n",
        "    print(\"The person's heart is healthy :)\")\n",
        "else:\n",
        "    print(\"The person is suffering from heart disease :(\")"
      ],
      "execution_count": null,
      "outputs": []
    },
    {
      "cell_type": "markdown",
      "metadata": {
        "id": "_J1_nGr1hAHo"
      },
      "source": [
        ""
      ]
    }
  ]
}